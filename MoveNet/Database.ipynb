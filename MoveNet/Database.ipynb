{
 "cells": [
  {
   "cell_type": "code",
   "execution_count": 12,
   "metadata": {},
   "outputs": [],
   "source": [
    "from MoveNet import load_model, run_movenet, process_image\n",
    "import pandas as pd\n",
    "import mysql.connector\n",
    "import os\n",
    "import numpy as np\n",
    "import configparser\n",
    "import mysql.connector"
   ]
  },
  {
   "cell_type": "markdown",
   "metadata": {},
   "source": [
    "# MySQL Database Connect"
   ]
  },
  {
   "cell_type": "code",
   "execution_count": 13,
   "metadata": {},
   "outputs": [],
   "source": [
    "config = configparser.ConfigParser()\n",
    "config.read('config.ini')\n",
    "db_config = config['database']"
   ]
  },
  {
   "cell_type": "code",
   "execution_count": 14,
   "metadata": {},
   "outputs": [],
   "source": [
    "conn = mysql.connector.connect(\n",
    "    host=db_config['host'],\n",
    "    user=db_config['user'],\n",
    "    password=db_config['password'],\n",
    "    database=db_config['database']\n",
    ")\n",
    "cursor = conn.cursor()"
   ]
  },
  {
   "cell_type": "markdown",
   "metadata": {},
   "source": [
    "# Pose"
   ]
  },
  {
   "cell_type": "code",
   "execution_count": 15,
   "metadata": {},
   "outputs": [],
   "source": [
    "Pose_name = ['준비자세', '나란히서기', '몸통안막기', '몸통지르기', '아래막기', '앞굽이', '앞서기', '앞차기',\n",
    "             '얼굴막기', '앞차고얼굴지르기', '뒷굽이', '손날바깥막기', '손날안치기', '앞차고두번지르기']"
   ]
  },
  {
   "cell_type": "code",
   "execution_count": 21,
   "metadata": {},
   "outputs": [],
   "source": [
    "Pose_status = ['y']*14"
   ]
  },
  {
   "cell_type": "code",
   "execution_count": 24,
   "metadata": {},
   "outputs": [],
   "source": [
    "Pose_list = list()\n",
    "for x,y in zip(Pose_name,Pose_status):\n",
    "    Pose_list.append((x,y))"
   ]
  },
  {
   "cell_type": "code",
   "execution_count": 26,
   "metadata": {},
   "outputs": [],
   "source": [
    "query_Pose = 'INSERT INTO Pose (poseName, status) VALUES (%s,%s)'"
   ]
  },
  {
   "cell_type": "code",
   "execution_count": 27,
   "metadata": {},
   "outputs": [],
   "source": [
    "cursor.executemany(query_Pose, Pose_list)"
   ]
  },
  {
   "cell_type": "code",
   "execution_count": 35,
   "metadata": {},
   "outputs": [],
   "source": [
    "cursor.execute('SELECT * FROM Pose;')"
   ]
  },
  {
   "cell_type": "code",
   "execution_count": 32,
   "metadata": {},
   "outputs": [],
   "source": [
    "# conn.commit()\n",
    "# conn.rollback()"
   ]
  },
  {
   "cell_type": "markdown",
   "metadata": {},
   "source": [
    "# Dot"
   ]
  },
  {
   "cell_type": "code",
   "execution_count": 38,
   "metadata": {
    "scrolled": true
   },
   "outputs": [
    {
     "data": {
      "text/plain": [
       "[]"
      ]
     },
     "execution_count": 38,
     "metadata": {},
     "output_type": "execute_result"
    }
   ],
   "source": [
    "cursor.execute('SELECT * FROM Dot;')\n",
    "cursor.fetchall()"
   ]
  },
  {
   "cell_type": "code",
   "execution_count": 45,
   "metadata": {},
   "outputs": [],
   "source": [
    "Dot_name = ['nose', 'leftEye', 'rightEye', 'leftEar', 'rightEar', 'leftShoulder', 'rightShoulder', 'leftElbow', 'rightElbow',\n",
    "            'leftWrist', 'rightWrist', 'leftHip', 'rightHip', 'leftKnee', 'rightKnee', 'leftAnkle', 'rightAnkle']"
   ]
  },
  {
   "cell_type": "code",
   "execution_count": 46,
   "metadata": {},
   "outputs": [],
   "source": [
    "Dot_status = ['y']*len(Dot_name)"
   ]
  },
  {
   "cell_type": "code",
   "execution_count": 47,
   "metadata": {},
   "outputs": [],
   "source": [
    "Dot_list = list()\n",
    "for x,y in zip(Dot_name,Dot_status):\n",
    "    Dot_list.append((x,y))"
   ]
  },
  {
   "cell_type": "code",
   "execution_count": 49,
   "metadata": {},
   "outputs": [],
   "source": [
    "query_Dot = 'INSERT INTO Dot (name, status) VALUES (%s,%s)'"
   ]
  },
  {
   "cell_type": "code",
   "execution_count": 50,
   "metadata": {},
   "outputs": [],
   "source": [
    "cursor.executemany(query_Dot, Dot_list)"
   ]
  },
  {
   "cell_type": "code",
   "execution_count": 52,
   "metadata": {},
   "outputs": [],
   "source": [
    "conn.commit()"
   ]
  },
  {
   "cell_type": "markdown",
   "metadata": {},
   "source": [
    "# Position"
   ]
  },
  {
   "cell_type": "code",
   "execution_count": 40,
   "metadata": {
    "scrolled": true
   },
   "outputs": [
    {
     "data": {
      "text/plain": [
       "[(1, 1, 1, 0.5, 716.0, 249.0, 1.0, 'f', 'r', 'r', 'y', 1),\n",
       " (2, 1, 2, 0.5, 700.0, 244.0, 1.0, 'f', 'r', 'r', 'y', 1),\n",
       " (3, 1, 3, 0.5, 708.0, 245.0, 1.0, 'f', 'r', 'r', 'y', 1),\n",
       " (4, 1, 4, 0.5, 677.0, 248.0, 1.0, 'f', 'r', 'r', 'y', 1),\n",
       " (5, 1, 5, 0.5, 685.0, 257.0, 1.0, 'f', 'r', 'r', 'y', 1),\n",
       " (6, 1, 6, 0.5, 714.0, 296.0, 1.0, 'f', 'r', 'r', 'y', 1),\n",
       " (7, 1, 7, 0.5, 648.0, 315.0, 1.0, 'f', 'r', 'r', 'y', 1),\n",
       " (8, 1, 8, 0.5, 725.0, 337.0, 1.0, 'f', 'r', 'r', 'y', 1),\n",
       " (9, 1, 9, 0.5, 675.0, 362.0, 1.0, 'f', 'r', 'r', 'y', 1),\n",
       " (10, 1, 10, 0.5, 722.0, 400.0, 1.0, 'f', 'r', 'r', 'y', 1),\n",
       " (11, 1, 11, 0.5, 763.0, 353.0, 1.0, 'f', 'r', 'r', 'y', 1),\n",
       " (12, 1, 12, 0.5, 717.0, 409.0, 1.0, 'f', 'r', 'r', 'y', 1),\n",
       " (13, 1, 13, 0.5, 684.0, 415.0, 1.0, 'f', 'r', 'r', 'y', 1),\n",
       " (14, 1, 14, 0.5, 756.0, 448.0, 1.0, 'f', 'r', 'r', 'y', 1),\n",
       " (15, 1, 15, 0.5, 706.0, 502.0, 1.0, 'f', 'r', 'r', 'y', 1),\n",
       " (16, 1, 16, 0.5, 792.0, 493.0, 1.0, 'f', 'r', 'r', 'y', 1),\n",
       " (17, 1, 17, 0.5, 693.0, 556.0, 1.0, 'f', 'r', 'r', 'y', 1),\n",
       " (18, 1, 1, 0.5, 716.0, 249.0, 1.0, 'f', 'r', 'r', 'y', 2),\n",
       " (19, 1, 2, 0.5, 700.0, 244.0, 1.0, 'f', 'r', 'r', 'y', 2),\n",
       " (20, 1, 3, 0.5, 708.0, 245.0, 1.0, 'f', 'r', 'r', 'y', 2),\n",
       " (21, 1, 4, 0.5, 677.0, 248.0, 1.0, 'f', 'r', 'r', 'y', 2),\n",
       " (22, 1, 5, 0.5, 685.0, 257.0, 1.0, 'f', 'r', 'r', 'y', 2),\n",
       " (23, 1, 6, 0.5, 714.0, 296.0, 1.0, 'f', 'r', 'r', 'y', 2),\n",
       " (24, 1, 7, 0.5, 648.0, 315.0, 1.0, 'f', 'r', 'r', 'y', 2),\n",
       " (25, 1, 8, 0.5, 725.0, 337.0, 1.0, 'f', 'r', 'r', 'y', 2),\n",
       " (26, 1, 9, 0.5, 675.0, 362.0, 1.0, 'f', 'r', 'r', 'y', 2),\n",
       " (27, 1, 10, 0.5, 722.0, 400.0, 1.0, 'f', 'r', 'r', 'y', 2),\n",
       " (28, 1, 11, 0.5, 763.0, 353.0, 1.0, 'f', 'r', 'r', 'y', 2),\n",
       " (29, 1, 12, 0.5, 717.0, 409.0, 1.0, 'f', 'r', 'r', 'y', 2),\n",
       " (30, 1, 13, 0.5, 684.0, 415.0, 1.0, 'f', 'r', 'r', 'y', 2),\n",
       " (31, 1, 14, 0.5, 756.0, 448.0, 1.0, 'f', 'r', 'r', 'y', 2),\n",
       " (32, 1, 15, 0.5, 706.0, 502.0, 1.0, 'f', 'r', 'r', 'y', 2),\n",
       " (33, 1, 16, 0.5, 792.0, 493.0, 1.0, 'f', 'r', 'r', 'y', 2),\n",
       " (34, 1, 17, 0.5, 693.0, 556.0, 1.0, 'f', 'r', 'r', 'y', 2),\n",
       " (35, 1, 1, 0.5, 716.0, 249.0, 1.0, 'f', 'r', 'r', 'y', 3),\n",
       " (36, 1, 2, 0.5, 700.0, 244.0, 1.0, 'f', 'r', 'r', 'y', 3),\n",
       " (37, 1, 3, 0.5, 708.0, 245.0, 1.0, 'f', 'r', 'r', 'y', 3),\n",
       " (38, 1, 4, 0.5, 677.0, 248.0, 1.0, 'f', 'r', 'r', 'y', 3),\n",
       " (39, 1, 5, 0.5, 685.0, 257.0, 1.0, 'f', 'r', 'r', 'y', 3),\n",
       " (40, 1, 6, 0.5, 714.0, 296.0, 1.0, 'f', 'r', 'r', 'y', 3),\n",
       " (41, 1, 7, 0.5, 648.0, 315.0, 1.0, 'f', 'r', 'r', 'y', 3),\n",
       " (42, 1, 8, 0.5, 725.0, 337.0, 1.0, 'f', 'r', 'r', 'y', 3),\n",
       " (43, 1, 9, 0.5, 675.0, 362.0, 1.0, 'f', 'r', 'r', 'y', 3),\n",
       " (44, 1, 10, 0.5, 722.0, 400.0, 1.0, 'f', 'r', 'r', 'y', 3),\n",
       " (45, 1, 11, 0.5, 763.0, 353.0, 1.0, 'f', 'r', 'r', 'y', 3),\n",
       " (46, 1, 12, 0.5, 717.0, 409.0, 1.0, 'f', 'r', 'r', 'y', 3),\n",
       " (47, 1, 13, 0.5, 684.0, 415.0, 1.0, 'f', 'r', 'r', 'y', 3),\n",
       " (48, 1, 14, 0.5, 756.0, 448.0, 1.0, 'f', 'r', 'r', 'y', 3),\n",
       " (49, 1, 15, 0.5, 706.0, 502.0, 1.0, 'f', 'r', 'r', 'y', 3),\n",
       " (50, 1, 16, 0.5, 792.0, 493.0, 1.0, 'f', 'r', 'r', 'y', 3),\n",
       " (51, 1, 17, 0.5, 693.0, 556.0, 1.0, 'f', 'r', 'r', 'y', 3)]"
      ]
     },
     "execution_count": 40,
     "metadata": {},
     "output_type": "execute_result"
    }
   ],
   "source": [
    "cursor.execute('SELECT * FROM Position;')\n",
    "cursor.fetchall()"
   ]
  },
  {
   "cell_type": "code",
   "execution_count": 56,
   "metadata": {},
   "outputs": [],
   "source": [
    "model = load_model()"
   ]
  },
  {
   "cell_type": "code",
   "execution_count": 192,
   "metadata": {},
   "outputs": [],
   "source": [
    "# 수시로 변경\n",
    "hand = ['r']*17\n",
    "foot = ['r']*17\n",
    "file = '태극3장_앞차고두번지르기_왼쪽_5'\n",
    "\n",
    "# 고정\n",
    "file_path = \"C:\\\\Users\\\\wlghks\\\\Desktop\\\\24-1\\\\Taekwondo\\\\Taekwondo_1,2,3장_기본동작_편집본\\\\단위동작\\\\\"+file+\".jpg\"\n",
    "file_image = process_image(file_path)\n",
    "\n",
    "result = run_movenet(model, file_image)\n",
    "result = result.reshape(-1,3)\n",
    "\n",
    "file_name = os.path.basename(file_path)\n",
    "\n",
    "file_name_split = file_name.replace('.jpg','').split('_')\n",
    "Poomsae, pose, dirt, pSeq = file_name_split\n",
    "\n",
    "Pose_name = ['준비자세', '나란히서기', '몸통안막기', '몸통지르기', '아래막기', '앞굽이', '앞서기', '앞차기',\n",
    "             '얼굴막기', '앞차고얼굴지르기', '뒷굽이', '손날바깥막기', '손날안치기', '앞차고두번지르기']\n",
    "\n",
    "# 고정\n",
    "poseIdx = [Pose_name.index(pose) + 1]*len(result)\n",
    "\n",
    "dotIdx = list(range(1,18))\n",
    "\n",
    "reliability = [i[2] for i in result]\n",
    "reliability = [float(i) if isinstance(i, np.float32) else i for i in reliability]\n",
    "\n",
    "x = [i[0] for i in result]\n",
    "x = [float(i) if isinstance(i, np.float32) else i for i in x]\n",
    "\n",
    "y = [i[1] for i in result]\n",
    "y = [float(i) if isinstance(i, np.float32) else i for i in y]\n",
    "\n",
    "z = [1.0] * len(result)\n",
    "\n",
    "match dirt:\n",
    "    case '정면':\n",
    "        direction = ['f']*len(result)\n",
    "    case '왼쪽':\n",
    "        direction = ['l']*len(result)\n",
    "    case '오른쪽':\n",
    "        direction = ['r']*len(result)\n",
    "\n",
    "status = ['y']*len(result)\n",
    "\n",
    "poseSeq = [int(pSeq)]*len(result)\n",
    "\n",
    "Position_list_T = [poseIdx, dotIdx, reliability, x, y, z, direction, hand, foot, status, poseSeq]\n",
    "\n",
    "Position_list = list(map(list, zip(*Position_list_T)))\n",
    "\n",
    "query_Dot = '''INSERT INTO Position (poseIdx, dotIdx, reliability, x, y, z, direction, hand, foot, status, poseSeq)\n",
    "            VALUES (%s, %s, %s, %s, %s, %s, %s, %s, %s, %s, %s)'''\n",
    "\n",
    "cursor.executemany(query_Dot, Position_list)"
   ]
  },
  {
   "cell_type": "code",
   "execution_count": 194,
   "metadata": {},
   "outputs": [],
   "source": [
    "conn.commit()"
   ]
  },
  {
   "cell_type": "code",
   "execution_count": null,
   "metadata": {},
   "outputs": [],
   "source": [
    "# conn.rollback()"
   ]
  },
  {
   "cell_type": "code",
   "execution_count": 195,
   "metadata": {},
   "outputs": [],
   "source": [
    "conn.close()"
   ]
  },
  {
   "cell_type": "markdown",
   "metadata": {},
   "source": [
    "# Poomsae"
   ]
  },
  {
   "cell_type": "code",
   "execution_count": 39,
   "metadata": {},
   "outputs": [
    {
     "data": {
      "text/plain": [
       "[]"
      ]
     },
     "execution_count": 39,
     "metadata": {},
     "output_type": "execute_result"
    }
   ],
   "source": [
    "cursor.execute('SELECT * FROM Poomsae;')\n",
    "cursor.fetchall()"
   ]
  },
  {
   "cell_type": "code",
   "execution_count": 53,
   "metadata": {},
   "outputs": [],
   "source": [
    "Poomsae_num = list(range(1,4))"
   ]
  },
  {
   "cell_type": "code",
   "execution_count": null,
   "metadata": {},
   "outputs": [],
   "source": [
    "# poseOrder = '1,2,3, ...'"
   ]
  },
  {
   "cell_type": "code",
   "execution_count": 54,
   "metadata": {},
   "outputs": [],
   "source": [
    "Poomsae_status = ['y']*len(Poomsae_num)"
   ]
  }
 ],
 "metadata": {
  "kernelspec": {
   "display_name": "Python 3 (ipykernel)",
   "language": "python",
   "name": "python3"
  },
  "language_info": {
   "codemirror_mode": {
    "name": "ipython",
    "version": 3
   },
   "file_extension": ".py",
   "mimetype": "text/x-python",
   "name": "python",
   "nbconvert_exporter": "python",
   "pygments_lexer": "ipython3",
   "version": "3.11.5"
  }
 },
 "nbformat": 4,
 "nbformat_minor": 4
}
